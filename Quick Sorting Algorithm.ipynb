{
 "cells": [
  {
   "cell_type": "markdown",
   "metadata": {},
   "source": [
    "# Quicksort\n",
    "\n",
    "Goal: Sort an array from low to high (or high to low).\n",
    "\n",
    "Quicksort is one of the most famous algorithms in history. It was invented way back in 1959 by Tony Hoare, at a time when recursion was still a fairly nebulous concept.\n",
    "\n",
    "Here's an implementation in Python that should be easy to understand:"
   ]
  },
  {
   "cell_type": "code",
   "execution_count": 18,
   "metadata": {},
   "outputs": [],
   "source": [
    "def quick_sort(collection):\n",
    "    \n",
    "    if len(collection) <= 1:\n",
    "        return collection\n",
    "    else:\n",
    "        # Use the last element as the first pivot\n",
    "        pivot = collection.pop()\n",
    "        # Accumulate elements greater than pivot in greater list\n",
    "        # Accumulate elements lesser than pivot in lesser list\n",
    "        greater, lesser = [], []\n",
    "        for element in collection:\n",
    "            if element > pivot:\n",
    "                greater.append(element)\n",
    "            else:\n",
    "                lesser.append(element)\n",
    "        return quick_sort(lesser) + [pivot] + quick_sort(greater)"
   ]
  },
  {
   "cell_type": "markdown",
   "metadata": {},
   "source": [
    "## Let's see the time taken by quick-sort method"
   ]
  },
  {
   "cell_type": "code",
   "execution_count": 19,
   "metadata": {},
   "outputs": [
    {
     "name": "stdout",
     "output_type": "stream",
     "text": [
      "Total time taken:30.983924865722656ms\n"
     ]
    }
   ],
   "source": [
    "import time\n",
    "import random\n",
    "\n",
    "a = [random.randint(10, 200000) for _ in range(10000)]\n",
    "tic = time.time()\n",
    "quick_sort(a)\n",
    "toc = time.time()\n",
    "print(\"Total time taken:\" + str(1000*(toc-tic)) + \"ms\")"
   ]
  },
  {
   "cell_type": "markdown",
   "metadata": {},
   "source": [
    "## This is time taken by python's default sorting method for lists."
   ]
  },
  {
   "cell_type": "code",
   "execution_count": 20,
   "metadata": {},
   "outputs": [
    {
     "name": "stdout",
     "output_type": "stream",
     "text": [
      "Total time taken:1.9989013671875ms\n"
     ]
    }
   ],
   "source": [
    "a = [random.randint(10, 200000) for _ in range(10000)]\n",
    "tic = time.time()\n",
    "a.sort()\n",
    "toc = time.time()\n",
    "print(\"Total time taken:\" + str(1000*(toc-tic)) + \"ms\")"
   ]
  },
  {
   "cell_type": "markdown",
   "metadata": {},
   "source": [
    "# Lomuto's partitioning scheme"
   ]
  },
  {
   "cell_type": "markdown",
   "metadata": {},
   "source": [
    "In the first example of quicksort I showed you, partitioning was done by using two new lists to store the `greater` and `lesser` values. That is not very efficient for memory. So let's look at a smarter partitioning algorithm that works in place, i.e. by modifying the original array.\n",
    "\n",
    "Here's an implementation of Lomuto's partitioning scheme in Python:"
   ]
  },
  {
   "cell_type": "code",
   "execution_count": 21,
   "metadata": {},
   "outputs": [],
   "source": [
    "def partitionLomuto(array, low, high):\n",
    "    pivot = array[high]\n",
    "    i = low - 1\n",
    "    for j in range(low, high):\n",
    "        if array[j] < pivot:\n",
    "            i += 1\n",
    "            temp = array[i]\n",
    "            array[i] = array[j]\n",
    "            array[j] = temp\n",
    "            \n",
    "    temp = array[i + 1]\n",
    "    \n",
    "    array[i + 1] = array[high]\n",
    "    array[high] = temp\n",
    "    \n",
    "    return i + 1"
   ]
  },
  {
   "cell_type": "code",
   "execution_count": 22,
   "metadata": {},
   "outputs": [],
   "source": [
    "def lomuto_quicksort(array, low, high):\n",
    "    if low < high:\n",
    "        p = partitionLomuto(array, low, high)\n",
    "        lomuto_quicksort(array, low, p - 1)\n",
    "        lomuto_quicksort(array, p + 1, high)\n",
    "    return array\n",
    "\n",
    "def quicksort(array):\n",
    "    return lomuto_quicksort(array, 0, len(array) - 1)"
   ]
  },
  {
   "cell_type": "code",
   "execution_count": 23,
   "metadata": {},
   "outputs": [
    {
     "data": {
      "text/plain": [
       "[1, 1, 1, 2, 6, 18, 55, 65, 121, 222]"
      ]
     },
     "execution_count": 23,
     "metadata": {},
     "output_type": "execute_result"
    }
   ],
   "source": [
    "quicksort([1,121,1,1,18,2,222,6,65,55])"
   ]
  }
 ],
 "metadata": {
  "kernelspec": {
   "display_name": "Python 3",
   "language": "python",
   "name": "python3"
  },
  "language_info": {
   "codemirror_mode": {
    "name": "ipython",
    "version": 3
   },
   "file_extension": ".py",
   "mimetype": "text/x-python",
   "name": "python",
   "nbconvert_exporter": "python",
   "pygments_lexer": "ipython3",
   "version": "3.7.4"
  }
 },
 "nbformat": 4,
 "nbformat_minor": 2
}
