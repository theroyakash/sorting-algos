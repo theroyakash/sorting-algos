{
  "nbformat": 4,
  "nbformat_minor": 0,
  "metadata": {
    "colab": {
      "name": "bubble_Sort.ipynb",
      "provenance": [],
      "collapsed_sections": []
    },
    "kernelspec": {
      "name": "python3",
      "display_name": "Python 3"
    },
    "accelerator": "GPU"
  },
  "cells": [
    {
      "cell_type": "markdown",
      "metadata": {
        "id": "cppJfzu-oOQZ",
        "colab_type": "text"
      },
      "source": [
        "# Bubble Sort\n",
        "\n",
        "Bubble sort is a sorting algorithm that is implemented by starting in the beginning of the array and swapping the first two elements only if the first element is greater than the second element. This comparison is then moved onto the next pair and so on and so forth. This is done until the array is completely sorted. The smaller items slowly “bubble” up to the beginning of the array. Sometimes this algorithm is refered as Sinking sort, due to the larger, or heavier elements sinking to the end of the array.\n",
        "\n",
        "##### Runtime:\n",
        "- Average: O(N^2)\n",
        "- Worst: O(N^2)\n",
        "\n",
        "##### Memory:\n",
        "- O(1)\n",
        "\n",
        "### Implementation:\n",
        "\n",
        "The implementation will not be shown as the average and worst runtimes show that this is a very inefficient algorithm. However, having a grasp of the concept will help you understand the basics of simple sorting algorithms.\n",
        "\n",
        "Bubble sort is a very simple sorting algorithm, it consists in comparing pairs of adjacent elements in the array, if the first element is larger, swap them, otherwise, you do nothing and go for the next comparison.\n",
        "This is accomplished by looking through the array `n` times, `n` being the amount of elements in the array.\n",
        "\n",
        "![animated gif of the bubble sort algorithm](https://s3.amazonaws.com/codecademy-content/programs/tdd-js/articles/BubbleSort.gif)\n",
        "\n",
        "This GIF shows a inverted implementation than \n",
        "\n",
        "#### Example\n",
        "Let us take the array `[5, 1, 4, 2, 8]`, and sort the array from lowest number to greatest number using bubble sort. In each step, elements written in bold are being compared. Three passes will be required.\n",
        "\n",
        "##### First Pass\n",
        "[ **5 1** 4 2 8 ] -> [ **1 5** 4 2 8 ], Here, algorithm compares the first two elements, and swaps since 5 > 1.\n",
        "\n",
        "[ 1 **5 4** 2 8 ] -> [ 1 **4 5** 2 8 ], Swap since 5 > 4 \n",
        "\n",
        "[ 1 4 **5 2** 8 ] -> [ 1 4 **2 5** 8 ], Swap since 5 > 2 \n",
        "\n",
        "[ 1 4 2 **5 8** ] -> [ 1 4 2 **5 8** ], Now, since these elements are already in order (8 > 5), algorithm does not swap them.\n",
        "\n",
        "##### Second Pass\n",
        "[ **1 4** 2 5 8 ] -> [ **1 4** 2 5 8 ]\n",
        "\n",
        "[ 1 **4 2** 5 8 ] -> [ 1 **2 4** 5 8 ], Swap since 4 > 2 \n",
        "\n",
        "[ 1 2 **4 5** 8 ] -> [ 1 2 **4 5** 8 ]\n",
        "\n",
        "[ 1 2 4 **5 8** ] -> [ 1 2 4 **5 8** ]\n",
        "Now, the array is already sorted, but the algorithm does not know if it is completed. The algorithm needs one whole pass without any swap to know it is sorted.\n",
        "\n",
        "##### Third Pass\n",
        "[ **1 2** 4 5 8 ] -> [ **1 2** 4 5 8 ]\n",
        "\n",
        "[ 1 **2 4** 5 8 ] -> [ 1 **2 4** 5 8 ]\n",
        "\n",
        "[ 1 2 **4 5** 8 ] -> [ 1 2 **4 5** 8 ]\n",
        "\n",
        "[ 1 2 4 **5 8** ] -> [ 1 2 4 **5 8** ]\n",
        "\n",
        "This is the same for the forth and fifth passes."
      ]
    },
    {
      "cell_type": "markdown",
      "metadata": {
        "id": "LXUvXqmJp65e",
        "colab_type": "text"
      },
      "source": [
        "## Here is a code snippet in python and an output to support the algorithm"
      ]
    },
    {
      "cell_type": "code",
      "metadata": {
        "id": "abvZbbI_l8b9",
        "colab_type": "code",
        "colab": {}
      },
      "source": [
        "def bubble_sort(arg_list):\n",
        "    for i in range(0,len(arg_list)):\n",
        "        for y in range(1, len(arg_list)):\n",
        "            if arg_list[y]<arg_list[y-1]:\n",
        "                arg_list[y],  arg_list[y-1] = arg_list[y-1], arg_list[y]\n",
        "    return arg_list"
      ],
      "execution_count": 0,
      "outputs": []
    },
    {
      "cell_type": "code",
      "metadata": {
        "id": "4E4oqgGEnX-W",
        "colab_type": "code",
        "colab": {
          "base_uri": "https://localhost:8080/",
          "height": 34
        },
        "outputId": "d7694c9d-4635-4ef4-b32f-46712553bb74"
      },
      "source": [
        "bubble_sort([1,2,34,5,675,57,543,27888])"
      ],
      "execution_count": 16,
      "outputs": [
        {
          "output_type": "execute_result",
          "data": {
            "text/plain": [
              "[1, 2, 5, 34, 57, 543, 675, 27888]"
            ]
          },
          "metadata": {
            "tags": []
          },
          "execution_count": 16
        }
      ]
    },
    {
      "cell_type": "markdown",
      "metadata": {
        "id": "CrWAencnp05v",
        "colab_type": "text"
      },
      "source": [
        "## Optimization\n",
        "The bubble sort algorithm can be easily optimized by observing that the `n-th` pass finds the `n-th` largest element and puts it into its final place. So, the inner loop can avoid looking at the last `n-1` items when running for the `n-th` time:"
      ]
    },
    {
      "cell_type": "code",
      "metadata": {
        "id": "MiKViZSXomJ6",
        "colab_type": "code",
        "colab": {}
      },
      "source": [
        "def bubble_sort_optimized(arg_list):\n",
        "    for y in range(0,len(arg_list)):\n",
        "        for z in range(1,len(arg_list)-y):\n",
        "            if arg_list[z] < arg_list[z-1]:\n",
        "                tmp = arg_list[z-1]\n",
        "                arg_list[z-1] = arg_list[z]\n",
        "                arg_list[z] = tmp\n",
        "    return arg_list    "
      ],
      "execution_count": 0,
      "outputs": []
    },
    {
      "cell_type": "code",
      "metadata": {
        "id": "2UMlepLKpbtu",
        "colab_type": "code",
        "colab": {
          "base_uri": "https://localhost:8080/",
          "height": 34
        },
        "outputId": "7d8656b4-b245-4b58-a6cf-b28c19bf5c4a"
      },
      "source": [
        "bubble_sort_optimized([1,2,34,5,675,57,543,27888])"
      ],
      "execution_count": 11,
      "outputs": [
        {
          "output_type": "execute_result",
          "data": {
            "text/plain": [
              "[1, 2, 5, 34, 57, 543, 675, 27888]"
            ]
          },
          "metadata": {
            "tags": []
          },
          "execution_count": 11
        }
      ]
    },
    {
      "cell_type": "markdown",
      "metadata": {
        "id": "dDUGMXM8qnv6",
        "colab_type": "text"
      },
      "source": [
        "\n",
        "The only change made was on the second line, changing the interval from `1..<array.count` to `1..<array.count - i`, effectively cutting the number of comparisons by half.\n",
        "\n",
        "The ordering with the optimized code would look something like this for the array  `[5, 1, 4, 2, 8]`:\n",
        "\n",
        "##### First Pass\n",
        "[ **5 1** 4 2 8 ] -> [ **1 5** 4 2 8 ], Swaps since 5 > 1\n",
        "\n",
        "[ 1 **5 4** 2 8 ] -> [ 1 **4 5** 2 8 ], Swap since 5 > 4 \n",
        "\n",
        "[ 1 4 **5 2** 8 ] -> [ 1 4 **2 5** 8 ], Swap since 5 > 2 \n",
        "\n",
        "[ 1 4 2 **5 8** ] -> [ 1 4 2 **5 8** ], Now, since these elements are already in order (8 > 5), algorithm does not swap them. \n",
        "\n",
        "*by the end of the first pass, the last element is guaranteed to be the largest*\n",
        "\n",
        "##### Second Pass\n",
        "[ **1 4** 2 5 8 ] -> [ **1 4** 2 5 8 ]\n",
        "\n",
        "[ 1 **4 2** 5 8 ] -> [ 1 **2 4** 5 8 ], Swap since 4 > 2 \n",
        "\n",
        "[ 1 2 **4 5** 8 ] -> [ 1 2 **4 5** 8 ], As the first loop has occured once, the inner loop stops here, not comparing 5 with 8\n",
        "\n",
        "##### Third Pass\n",
        "[ **1 2** 4 5 8 ] -> [ **1 2** 4 5 8 ]\n",
        "\n",
        "[ 1 **2 4** 5 8 ] -> [ 1 **2 4** 5 8 ] again, stoping one comparison short\n",
        "\n",
        "##### Fourth Pass\n",
        "[ **1 2** 4 5 8 ] -> [ **1 2** 4 5 8 ]\n",
        "\n",
        "There is no Fifth pass\n",
        "\n",
        "#### Conclusion\n",
        "\n",
        "Even with the proposed optimizations, this is still a terribly inefficient sorting algorithm. A good alternative is Merge and Quick sort, that not only is better performing, has a similar degree of dificulty to implement."
      ]
    }
  ]
}