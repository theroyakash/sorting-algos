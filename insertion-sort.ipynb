{
 "cells": [
  {
   "cell_type": "markdown",
   "metadata": {},
   "source": [
    "# Implementation of Insertion sort algorithm in python"
   ]
  },
  {
   "cell_type": "markdown",
   "metadata": {},
   "source": [
    "I here make a swap between two consecetive elements"
   ]
  },
  {
   "cell_type": "markdown",
   "metadata": {},
   "source": [
    "Goal: Sort an array from low to high (or high to low).\n",
    "\n",
    "You are given an array of numbers and need to put them in the right order. The insertion sort algorithm works as follows:\n",
    "\n",
    "- Put the numbers on a pile. This pile is unsorted.\n",
    "- Pick a number from the pile. It doesn't really matter which one you pick, but it's easiest to pick from the top of the pile. \n",
    "- Insert this number into a new array. \n",
    "- Pick the next number from the unsorted pile and also insert that into the new array. It either goes before or after the first number you picked, so that now these two numbers are sorted.\n",
    "- Again, pick the next number from the pile and insert it into the array in the proper sorted position.\n",
    "- Keep doing this until there are no more numbers on the pile. You end up with an empty pile and an array that is sorted.\n",
    "\n",
    "That's why this is called an \"insertion\" sort, because you take a number from the pile and insert it in the array in its proper sorted position. \n",
    "\n",
    "## An example\n",
    "\n",
    "Let's say the numbers to sort are `[ 8, 3, 5, 4, 6 ]`. This is our unsorted pile.\n",
    "\n",
    "Pick the first number, `8`, and insert it into the new array. There is nothing in that array yet, so that's easy. The sorted array is now `[ 8 ]` and the pile is `[ 3, 5, 4, 6 ]`.\n",
    "\n",
    "Pick the next number from the pile, `3`, and insert it into the sorted array. It should go before the `8`, so the sorted array is now `[ 3, 8 ]` and the pile is reduced to `[ 5, 4, 6 ]`.\n",
    "\n",
    "Pick the next number from the pile, `5`, and insert it into the sorted array. It goes in between the `3` and `8`. The sorted array is `[ 3, 5, 8 ]` and the pile is `[ 4, 6 ]`.\n",
    "\n",
    "Repeat this process until the pile is empty."
   ]
  },
  {
   "cell_type": "code",
   "execution_count": 1,
   "metadata": {},
   "outputs": [],
   "source": [
    "def insertion_sort(alist):\n",
    "    a = alist\n",
    "    for z in range(1, len(a)):\n",
    "        y = z\n",
    "        while y > 0 and int(a[y]<a[y-1]):\n",
    "            a[y], a[y-1] = a[y-1], a[y]\n",
    "            y -=1\n",
    "    return a"
   ]
  },
  {
   "cell_type": "code",
   "execution_count": 2,
   "metadata": {},
   "outputs": [
    {
     "data": {
      "text/plain": [
       "[1, 2, 33, 125, 301234]"
      ]
     },
     "execution_count": 2,
     "metadata": {},
     "output_type": "execute_result"
    }
   ],
   "source": [
    "l = [2,33,125,1,301234]\n",
    "insertion_sort(l)"
   ]
  },
  {
   "cell_type": "markdown",
   "metadata": {},
   "source": [
    "## A rather good approach\n",
    "\n",
    "### In-place sort\n",
    "\n",
    "The above explanation makes it seem like you need two arrays: one for the unsorted pile and one that contains the numbers in sorted order.\n",
    "\n",
    "But you can perform the insertion sort *in-place*, without having to create a separate array. You just keep track of which part of the array is sorted already and which part is the unsorted pile.\n",
    "\n",
    "Initially, the array is `[ 8, 3, 5, 4, 6 ]`. The `|` bar shows where the sorted portion ends and the pile begins:\n",
    "\n",
    "\t[| 8, 3, 5, 4, 6 ]\n",
    "\n",
    "This shows that the sorted portion is empty and the pile starts at `8`.\n",
    "\n",
    "After processing the first number, we have:\n",
    "\n",
    "\t[ 8 | 3, 5, 4, 6 ]\n",
    "\n",
    "The sorted portion is `[ 8 ]` and the pile is `[ 3, 5, 4, 6 ]`. The `|` bar has shifted one position to the right.\n",
    "\n",
    "This is how the content of the array changes during the sort:\n",
    "\n",
    "\t[| 8, 3, 5, 4, 6 ]\n",
    "\t[ 8 | 3, 5, 4, 6 ]\n",
    "\t[ 3, 8 | 5, 4, 6 ]\n",
    "\t[ 3, 5, 8 | 4, 6 ]\n",
    "\t[ 3, 4, 5, 8 | 6 ]\n",
    "\t[ 3, 4, 5, 6, 8 |]\n",
    "\n",
    "In each step, the `|` bar moves up one position. As you can see, the beginning of the array up to the `|` is always sorted. The pile shrinks by one and the sorted portion grows by one, until the pile is empty and there are no more unsorted numbers left.\n",
    "\n",
    "## How to insert\n",
    "\n",
    "At each step you pick the top-most number from the unsorted pile and insert it into the sorted portion of the array. You must put that number in the proper place so that the beginning of the array remains sorted. How does that work?\n",
    "\n",
    "Let's say we've already done the first few elements and the array looks like this:\n",
    "\n",
    "\t[ 3, 5, 8 | 4, 6 ]\n",
    "\n",
    "The next number to sort is `4`. We need to insert that into the sorted portion `[ 3, 5, 8 ]` somewhere. \n",
    "\n",
    "Here's one way to do this: Look at the previous element, `8`. \n",
    "\n",
    "\t[ 3, 5, 8, 4 | 6 ]\n",
    "\t        ^\n",
    "\t        \n",
    "Is this greater than `4`? Yes it is, so the `4` should come before the `8`. We swap these two numbers to get:\n",
    "\n",
    "\t[ 3, 5, 4, 8 | 6 ]\n",
    "\t        <-->\n",
    "\t       swapped\n",
    "\n",
    "We're not done yet. The new previous element, `5`, is also greater than `4`. We also swap these two numbers:\n",
    "\n",
    "\t[ 3, 4, 5, 8 | 6 ]\n",
    "\t     <-->\n",
    "\t    swapped\n",
    "\n",
    "Again, look at the previous element. Is `3` greater than `4`? No, it is not. That means we're done with number `4`. The beginning of the array is sorted again.\n",
    "\n",
    "This was a description of the inner loop of the insertion sort algorithm, which you'll see in the next section. It inserts the number from the top of the pile into the sorted portion by swapping numbers.\n"
   ]
  },
  {
   "cell_type": "markdown",
   "metadata": {},
   "source": [
    "\n",
    "Here is how the code works.\n",
    "\n",
    "1. Make a copy of the array. This is necessary because we cannot modify the contents of the `array` parameter directly. Like Swift's own `sort()`, the `insertionSort()` function will return a sorted *copy* of the original array.\n",
    "\n",
    "2. There are two loops inside this function. The outer loop looks at each of the elements in the array in turn; this is what picks the top-most number from the pile. The variable `x` is the index of where the sorted portion ends and the pile begins (the position of the `|` bar). Remember, at any given moment the beginning of the array -- from index 0 up to `x` -- is always sorted. The rest, from index `x` until the last element, is the unsorted pile.\n",
    "\n",
    "3. The inner loop looks at the element at position `x`. This is the number at the top of the pile, and it may be smaller than any of the previous elements. The inner loop steps backwards through the sorted array; every time it finds a previous number that is larger, it swaps them. When the inner loop completes, the beginning of the array is sorted again, and the sorted portion has grown by one element.\n",
    "\n",
    "> **Note:** The outer loop starts at index 1, not 0. Moving the very first element from the pile to the sorted portion doesn't actually change anything, so we might as well skip it. \n",
    "\n",
    "## No more swaps\n",
    "\n",
    "The above version of insertion sort works fine, but it can be made a tiny bit faster by removing the call to `swap()`. \n",
    "\n",
    "You've seen that we swap numbers to move the next element into its sorted position:\n",
    "\n",
    "\t[ 3, 5, 8, 4 | 6 ]\n",
    "\t        <-->\n",
    "            swap\n",
    "\t        \n",
    "\t[ 3, 5, 4, 8 | 6 ]\n",
    "         <-->\n",
    "\t     swap\n",
    "\n",
    "Instead of swapping with each of the previous elements, we can just shift all those elements one position to the right, and then copy the new number into the right position.\n",
    "\n",
    "\t[ 3, 5, 8, 4 | 6 ]   remember 4\n",
    "\t           *\n",
    "\t\n",
    "\t[ 3, 5, 8, 8 | 6 ]   shift 8 to the right\n",
    "\t        --->\n",
    "\t        \n",
    "\t[ 3, 5, 5, 8 | 6 ]   shift 5 to the right\n",
    "\t     --->\n",
    "\t     \n",
    "\t[ 3, 4, 5, 8 | 6 ]   copy 4 into place\n",
    "\t     *\n",
    "\n",
    "In code that looks like this:"
   ]
  },
  {
   "cell_type": "code",
   "execution_count": 3,
   "metadata": {},
   "outputs": [],
   "source": [
    "def insertion_sort1(alist):\n",
    "    a = alist\n",
    "    for x in range(1,len(a)):\n",
    "        y = x\n",
    "        temporary_var = a[y] # remember the value needed at the last\n",
    "        while y>0 and temporary_var<a[y-1]:\n",
    "            a[y] = a[y-1]\n",
    "            y -= 1\n",
    "        a[y] = temporary_var\n",
    "    return a"
   ]
  },
  {
   "cell_type": "markdown",
   "metadata": {},
   "source": [
    "## Performance\n",
    "\n",
    "Insertion sort is really fast if the array is already sorted. That sounds obvious, but this is not true for all search algorithms. In practice, a lot of data will already be largely -- if not entirely -- sorted and insertion sort works quite well in that case.\n",
    "\n",
    "The worst-case and average case performance of insertion sort is **O(n^2)**. That's because there are two nested loops in this function. Other sort algorithms, such as quicksort and merge sort, have **O(n log n)** performance, which is faster on large inputs.\n",
    "\n",
    "Insertion sort is actually very fast for sorting small arrays. Some standard libraries have sort functions that switch from a quicksort to insertion sort when the partition size is 10 or less.\n",
    "\n",
    "I did a quick test comparing our `insertion_sort()` with python's numpy's built-in `sort()`. On arrays of 10k elements, the difference in speed is 12000 times. As our input becomes larger, **O(n^2)** quickly starts to perform a lot worse than **O(n log n)** and insertion sort just can't keep up."
   ]
  },
  {
   "cell_type": "code",
   "execution_count": 14,
   "metadata": {},
   "outputs": [
    {
     "name": "stdout",
     "output_type": "stream",
     "text": [
      "total time = 11935.434818267822ms\n"
     ]
    }
   ],
   "source": [
    "import numpy as np\n",
    "l = np.random.rand(10000)   # random 10k elements array\n",
    "\n",
    "import time\n",
    "tick = time.time()\n",
    "insertion_sort1(l)\n",
    "tock = time.time()\n",
    "total_time = (tock-tick)*1000\n",
    "print(\"total time = \" + str(total_time) + \"ms\")"
   ]
  },
  {
   "cell_type": "code",
   "execution_count": 18,
   "metadata": {},
   "outputs": [
    {
     "name": "stdout",
     "output_type": "stream",
     "text": [
      "total time = 1.7490386962890625ms\n"
     ]
    }
   ],
   "source": [
    "l1 = np.random.rand(10000)   # random 10k elements array\n",
    "\n",
    "tick = time.time()\n",
    "l1.sort()  # default sort numpy\n",
    "tock = time.time()\n",
    "total_time = (tock-tick)*1000\n",
    "print(\"total time = \" + str(total_time) + \"ms\")"
   ]
  }
 ],
 "metadata": {
  "kernelspec": {
   "display_name": "Python 3",
   "language": "python",
   "name": "python3"
  },
  "language_info": {
   "codemirror_mode": {
    "name": "ipython",
    "version": 3
   },
   "file_extension": ".py",
   "mimetype": "text/x-python",
   "name": "python",
   "nbconvert_exporter": "python",
   "pygments_lexer": "ipython3",
   "version": "3.7.6"
  }
 },
 "nbformat": 4,
 "nbformat_minor": 4
}
